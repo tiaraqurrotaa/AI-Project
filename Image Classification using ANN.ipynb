{
 "cells": [
  {
   "cell_type": "markdown",
   "metadata": {},
   "source": [
    "<h3>1. Import module yang dibutuhkan</h3>"
   ]
  },
  {
   "cell_type": "code",
   "execution_count": 1,
   "metadata": {},
   "outputs": [],
   "source": [
    "from sklearn.model_selection import train_test_split\n",
    "from sklearn.preprocessing import LabelEncoder\n",
    "from sklearn.metrics import classification_report\n",
    "from tensorflow.keras.models import Sequential\n",
    "from tensorflow.keras.layers import Flatten, Dense\n",
    "from tensorflow.keras.optimizers import SGD\n",
    "import numpy as np\n",
    "import cv2\n",
    "import glob\n",
    "import matplotlib.pyplot as plt"
   ]
  },
  {
   "cell_type": "markdown",
   "metadata": {},
   "source": [
    "<h3>2. Load Dataset</h3>"
   ]
  },
  {
   "cell_type": "code",
   "execution_count": 2,
   "metadata": {},
   "outputs": [],
   "source": [
    "imagePaths = 'Dataset\\\\'\n",
    "label_list = ['Jambu Biji', 'Pepaya']\n",
    "data = []\n",
    "labels = []"
   ]
  },
  {
   "cell_type": "code",
   "execution_count": 3,
   "metadata": {},
   "outputs": [],
   "source": [
    "for label in label_list:\n",
    "    for imagePath in glob.glob(imagePaths+label+'\\\\*.jpg'):\n",
    "        #print(imagePath)\n",
    "        image = cv2.imread(imagePath)\n",
    "        image = cv2.resize(image, (32, 32))\n",
    "        data.append(image)\n",
    "        labels.append(label)"
   ]
  },
  {
   "cell_type": "code",
   "execution_count": 4,
   "metadata": {},
   "outputs": [
    {
     "data": {
      "text/plain": [
       "(100, 32, 32, 3)"
      ]
     },
     "execution_count": 4,
     "metadata": {},
     "output_type": "execute_result"
    }
   ],
   "source": [
    "np.array(data).shape"
   ]
  },
  {
   "cell_type": "markdown",
   "metadata": {},
   "source": [
    "<h3>3. Data Preprocessing</h3>"
   ]
  },
  {
   "cell_type": "code",
   "execution_count": 6,
   "metadata": {},
   "outputs": [],
   "source": [
    "# ubah type data dari list menjadi array\n",
    "# ubah nilai dari tiap pixel menjadi range [0..1]\n",
    "data = np.array(data, dtype='float') / 255.0\n",
    "labels = np.array(labels)"
   ]
  },
  {
   "cell_type": "code",
   "execution_count": 7,
   "metadata": {},
   "outputs": [
    {
     "name": "stdout",
     "output_type": "stream",
     "text": [
      "['Jambu Biji' 'Jambu Biji' 'Jambu Biji' 'Jambu Biji' 'Jambu Biji'\n",
      " 'Jambu Biji' 'Jambu Biji' 'Jambu Biji' 'Jambu Biji' 'Jambu Biji'\n",
      " 'Jambu Biji' 'Jambu Biji' 'Jambu Biji' 'Jambu Biji' 'Jambu Biji'\n",
      " 'Jambu Biji' 'Jambu Biji' 'Jambu Biji' 'Jambu Biji' 'Jambu Biji'\n",
      " 'Jambu Biji' 'Jambu Biji' 'Jambu Biji' 'Jambu Biji' 'Jambu Biji'\n",
      " 'Jambu Biji' 'Jambu Biji' 'Jambu Biji' 'Jambu Biji' 'Jambu Biji'\n",
      " 'Jambu Biji' 'Jambu Biji' 'Jambu Biji' 'Jambu Biji' 'Jambu Biji'\n",
      " 'Jambu Biji' 'Jambu Biji' 'Jambu Biji' 'Jambu Biji' 'Jambu Biji'\n",
      " 'Jambu Biji' 'Jambu Biji' 'Jambu Biji' 'Jambu Biji' 'Jambu Biji'\n",
      " 'Jambu Biji' 'Jambu Biji' 'Jambu Biji' 'Jambu Biji' 'Jambu Biji' 'Pepaya'\n",
      " 'Pepaya' 'Pepaya' 'Pepaya' 'Pepaya' 'Pepaya' 'Pepaya' 'Pepaya' 'Pepaya'\n",
      " 'Pepaya' 'Pepaya' 'Pepaya' 'Pepaya' 'Pepaya' 'Pepaya' 'Pepaya' 'Pepaya'\n",
      " 'Pepaya' 'Pepaya' 'Pepaya' 'Pepaya' 'Pepaya' 'Pepaya' 'Pepaya' 'Pepaya'\n",
      " 'Pepaya' 'Pepaya' 'Pepaya' 'Pepaya' 'Pepaya' 'Pepaya' 'Pepaya' 'Pepaya'\n",
      " 'Pepaya' 'Pepaya' 'Pepaya' 'Pepaya' 'Pepaya' 'Pepaya' 'Pepaya' 'Pepaya'\n",
      " 'Pepaya' 'Pepaya' 'Pepaya' 'Pepaya' 'Pepaya' 'Pepaya' 'Pepaya' 'Pepaya'\n",
      " 'Pepaya']\n"
     ]
    }
   ],
   "source": [
    "print(labels)"
   ]
  },
  {
   "cell_type": "code",
   "execution_count": 8,
   "metadata": {},
   "outputs": [
    {
     "name": "stdout",
     "output_type": "stream",
     "text": [
      "[0 0 0 0 0 0 0 0 0 0 0 0 0 0 0 0 0 0 0 0 0 0 0 0 0 0 0 0 0 0 0 0 0 0 0 0 0\n",
      " 0 0 0 0 0 0 0 0 0 0 0 0 0 1 1 1 1 1 1 1 1 1 1 1 1 1 1 1 1 1 1 1 1 1 1 1 1\n",
      " 1 1 1 1 1 1 1 1 1 1 1 1 1 1 1 1 1 1 1 1 1 1 1 1 1 1]\n"
     ]
    }
   ],
   "source": [
    "# ubah nilai dari labels menjadi binary\n",
    "lb = LabelEncoder()\n",
    "labels = lb.fit_transform(labels)\n",
    "print(labels)"
   ]
  },
  {
   "cell_type": "markdown",
   "metadata": {},
   "source": [
    "<h3>4. Split Dataset</h3>"
   ]
  },
  {
   "cell_type": "code",
   "execution_count": 9,
   "metadata": {},
   "outputs": [],
   "source": [
    "x_train, x_test, y_train, y_test = train_test_split(data, labels, test_size=0.2, random_state=42)"
   ]
  },
  {
   "cell_type": "code",
   "execution_count": 10,
   "metadata": {},
   "outputs": [
    {
     "name": "stdout",
     "output_type": "stream",
     "text": [
      "Ukuran data train = (80, 32, 32, 3)\n",
      "Ukuran data test = (20, 32, 32, 3)\n"
     ]
    }
   ],
   "source": [
    "print('Ukuran data train =', x_train.shape)\n",
    "print('Ukuran data test =', x_test.shape)"
   ]
  },
  {
   "cell_type": "markdown",
   "metadata": {},
   "source": [
    "<h3>5. Build ANN Architecture</h3>"
   ]
  },
  {
   "cell_type": "code",
   "execution_count": 11,
   "metadata": {},
   "outputs": [],
   "source": [
    "model = Sequential()\n",
    "model.add(Flatten(input_shape=(32,32,3)))\n",
    "model.add(Dense(1024, activation=\"relu\"))\n",
    "model.add(Dense(1024, activation=\"relu\"))\n",
    "model.add(Dense(1, activation=\"sigmoid\"))"
   ]
  },
  {
   "cell_type": "code",
   "execution_count": 12,
   "metadata": {},
   "outputs": [
    {
     "name": "stdout",
     "output_type": "stream",
     "text": [
      "Model: \"sequential\"\n",
      "_________________________________________________________________\n",
      " Layer (type)                Output Shape              Param #   \n",
      "=================================================================\n",
      " flatten (Flatten)           (None, 3072)              0         \n",
      "                                                                 \n",
      " dense (Dense)               (None, 1024)              3146752   \n",
      "                                                                 \n",
      " dense_1 (Dense)             (None, 1024)              1049600   \n",
      "                                                                 \n",
      " dense_2 (Dense)             (None, 1)                 1025      \n",
      "                                                                 \n",
      "=================================================================\n",
      "Total params: 4,197,377\n",
      "Trainable params: 4,197,377\n",
      "Non-trainable params: 0\n",
      "_________________________________________________________________\n"
     ]
    }
   ],
   "source": [
    "model.summary()"
   ]
  },
  {
   "cell_type": "code",
   "execution_count": 13,
   "metadata": {},
   "outputs": [],
   "source": [
    "# tentukan hyperparameter\n",
    "lr = 0.01\n",
    "max_epochs = 100\n",
    "opt_funct = SGD(learning_rate=lr)"
   ]
  },
  {
   "cell_type": "code",
   "execution_count": 14,
   "metadata": {},
   "outputs": [],
   "source": [
    "# compile arsitektur yang telah dibuat\n",
    "model.compile(loss = 'binary_crossentropy', \n",
    "              optimizer = opt_funct, \n",
    "              metrics = ['accuracy'])"
   ]
  },
  {
   "cell_type": "markdown",
   "metadata": {},
   "source": [
    "<h3>6. Train Model</h3>"
   ]
  },
  {
   "cell_type": "code",
   "execution_count": 15,
   "metadata": {},
   "outputs": [
    {
     "name": "stdout",
     "output_type": "stream",
     "text": [
      "Epoch 1/100\n",
      "3/3 [==============================] - 2s 297ms/step - loss: 0.6931 - accuracy: 0.5250 - val_loss: 0.6932 - val_accuracy: 0.4000\n",
      "Epoch 2/100\n",
      "3/3 [==============================] - 0s 89ms/step - loss: 0.6931 - accuracy: 0.5250 - val_loss: 0.6931 - val_accuracy: 0.4000\n",
      "Epoch 3/100\n",
      "3/3 [==============================] - 0s 90ms/step - loss: 0.6930 - accuracy: 0.5875 - val_loss: 0.6933 - val_accuracy: 0.4000\n",
      "Epoch 4/100\n",
      "3/3 [==============================] - 0s 90ms/step - loss: 0.6929 - accuracy: 0.5250 - val_loss: 0.6935 - val_accuracy: 0.4000\n",
      "Epoch 5/100\n",
      "3/3 [==============================] - 0s 90ms/step - loss: 0.6929 - accuracy: 0.5250 - val_loss: 0.6939 - val_accuracy: 0.4000\n",
      "Epoch 6/100\n",
      "3/3 [==============================] - 0s 79ms/step - loss: 0.6927 - accuracy: 0.5250 - val_loss: 0.6941 - val_accuracy: 0.4000\n",
      "Epoch 7/100\n",
      "3/3 [==============================] - 0s 87ms/step - loss: 0.6927 - accuracy: 0.5250 - val_loss: 0.6942 - val_accuracy: 0.4000\n",
      "Epoch 8/100\n",
      "3/3 [==============================] - 0s 88ms/step - loss: 0.6926 - accuracy: 0.5250 - val_loss: 0.6944 - val_accuracy: 0.4000\n",
      "Epoch 9/100\n",
      "3/3 [==============================] - 0s 77ms/step - loss: 0.6927 - accuracy: 0.5250 - val_loss: 0.6947 - val_accuracy: 0.4000\n",
      "Epoch 10/100\n",
      "3/3 [==============================] - 0s 79ms/step - loss: 0.6924 - accuracy: 0.5250 - val_loss: 0.6948 - val_accuracy: 0.4000\n",
      "Epoch 11/100\n",
      "3/3 [==============================] - 0s 88ms/step - loss: 0.6924 - accuracy: 0.5250 - val_loss: 0.6949 - val_accuracy: 0.4000\n",
      "Epoch 12/100\n",
      "3/3 [==============================] - 0s 95ms/step - loss: 0.6925 - accuracy: 0.5250 - val_loss: 0.6949 - val_accuracy: 0.4000\n",
      "Epoch 13/100\n",
      "3/3 [==============================] - 0s 87ms/step - loss: 0.6925 - accuracy: 0.5250 - val_loss: 0.6948 - val_accuracy: 0.4000\n",
      "Epoch 14/100\n",
      "3/3 [==============================] - 0s 91ms/step - loss: 0.6924 - accuracy: 0.5250 - val_loss: 0.6949 - val_accuracy: 0.4000\n",
      "Epoch 15/100\n",
      "3/3 [==============================] - 0s 84ms/step - loss: 0.6923 - accuracy: 0.5250 - val_loss: 0.6951 - val_accuracy: 0.4000\n",
      "Epoch 16/100\n",
      "3/3 [==============================] - 0s 86ms/step - loss: 0.6923 - accuracy: 0.5250 - val_loss: 0.6949 - val_accuracy: 0.4000\n",
      "Epoch 17/100\n",
      "3/3 [==============================] - 0s 87ms/step - loss: 0.6924 - accuracy: 0.5250 - val_loss: 0.6954 - val_accuracy: 0.4000\n",
      "Epoch 18/100\n",
      "3/3 [==============================] - 0s 83ms/step - loss: 0.6922 - accuracy: 0.5250 - val_loss: 0.6955 - val_accuracy: 0.4000\n",
      "Epoch 19/100\n",
      "3/3 [==============================] - 0s 84ms/step - loss: 0.6923 - accuracy: 0.5250 - val_loss: 0.6958 - val_accuracy: 0.4000\n",
      "Epoch 20/100\n",
      "3/3 [==============================] - 0s 76ms/step - loss: 0.6921 - accuracy: 0.5250 - val_loss: 0.6957 - val_accuracy: 0.4000\n",
      "Epoch 21/100\n",
      "3/3 [==============================] - 0s 81ms/step - loss: 0.6922 - accuracy: 0.5250 - val_loss: 0.6961 - val_accuracy: 0.4000\n",
      "Epoch 22/100\n",
      "3/3 [==============================] - 0s 86ms/step - loss: 0.6920 - accuracy: 0.5250 - val_loss: 0.6963 - val_accuracy: 0.4000\n",
      "Epoch 23/100\n",
      "3/3 [==============================] - 0s 77ms/step - loss: 0.6920 - accuracy: 0.5250 - val_loss: 0.6964 - val_accuracy: 0.4000\n",
      "Epoch 24/100\n",
      "3/3 [==============================] - 0s 79ms/step - loss: 0.6920 - accuracy: 0.5250 - val_loss: 0.6963 - val_accuracy: 0.4000\n",
      "Epoch 25/100\n",
      "3/3 [==============================] - 0s 81ms/step - loss: 0.6920 - accuracy: 0.5250 - val_loss: 0.6965 - val_accuracy: 0.4000\n",
      "Epoch 26/100\n",
      "3/3 [==============================] - 0s 93ms/step - loss: 0.6919 - accuracy: 0.5250 - val_loss: 0.6967 - val_accuracy: 0.4000\n",
      "Epoch 27/100\n",
      "3/3 [==============================] - 0s 91ms/step - loss: 0.6919 - accuracy: 0.5250 - val_loss: 0.6966 - val_accuracy: 0.4000\n",
      "Epoch 28/100\n",
      "3/3 [==============================] - 0s 93ms/step - loss: 0.6920 - accuracy: 0.5250 - val_loss: 0.6970 - val_accuracy: 0.4000\n",
      "Epoch 29/100\n",
      "3/3 [==============================] - 0s 84ms/step - loss: 0.6921 - accuracy: 0.5250 - val_loss: 0.6972 - val_accuracy: 0.4000\n",
      "Epoch 30/100\n",
      "3/3 [==============================] - 0s 80ms/step - loss: 0.6918 - accuracy: 0.5250 - val_loss: 0.6973 - val_accuracy: 0.4000\n",
      "Epoch 31/100\n",
      "3/3 [==============================] - 0s 96ms/step - loss: 0.6918 - accuracy: 0.5250 - val_loss: 0.6976 - val_accuracy: 0.4000\n",
      "Epoch 32/100\n",
      "3/3 [==============================] - 0s 84ms/step - loss: 0.6919 - accuracy: 0.5250 - val_loss: 0.6973 - val_accuracy: 0.4000\n",
      "Epoch 33/100\n",
      "3/3 [==============================] - 0s 81ms/step - loss: 0.6918 - accuracy: 0.5250 - val_loss: 0.6974 - val_accuracy: 0.4000\n",
      "Epoch 34/100\n",
      "3/3 [==============================] - 0s 97ms/step - loss: 0.6918 - accuracy: 0.5250 - val_loss: 0.6974 - val_accuracy: 0.4000\n",
      "Epoch 35/100\n",
      "3/3 [==============================] - 0s 101ms/step - loss: 0.6917 - accuracy: 0.5250 - val_loss: 0.6973 - val_accuracy: 0.4000\n",
      "Epoch 36/100\n",
      "3/3 [==============================] - 0s 126ms/step - loss: 0.6918 - accuracy: 0.5250 - val_loss: 0.6977 - val_accuracy: 0.4000\n",
      "Epoch 37/100\n",
      "3/3 [==============================] - 0s 93ms/step - loss: 0.6917 - accuracy: 0.5250 - val_loss: 0.6977 - val_accuracy: 0.4000\n",
      "Epoch 38/100\n",
      "3/3 [==============================] - 0s 109ms/step - loss: 0.6917 - accuracy: 0.5250 - val_loss: 0.6979 - val_accuracy: 0.4000\n",
      "Epoch 39/100\n",
      "3/3 [==============================] - 0s 91ms/step - loss: 0.6917 - accuracy: 0.5250 - val_loss: 0.6980 - val_accuracy: 0.4000\n",
      "Epoch 40/100\n",
      "3/3 [==============================] - 0s 84ms/step - loss: 0.6916 - accuracy: 0.5250 - val_loss: 0.6981 - val_accuracy: 0.4000\n",
      "Epoch 41/100\n",
      "3/3 [==============================] - 0s 79ms/step - loss: 0.6916 - accuracy: 0.5250 - val_loss: 0.6979 - val_accuracy: 0.4000\n",
      "Epoch 42/100\n",
      "3/3 [==============================] - 0s 87ms/step - loss: 0.6916 - accuracy: 0.5250 - val_loss: 0.6979 - val_accuracy: 0.4000\n",
      "Epoch 43/100\n",
      "3/3 [==============================] - 0s 85ms/step - loss: 0.6916 - accuracy: 0.5250 - val_loss: 0.6981 - val_accuracy: 0.4000\n",
      "Epoch 44/100\n",
      "3/3 [==============================] - 0s 79ms/step - loss: 0.6916 - accuracy: 0.5250 - val_loss: 0.6982 - val_accuracy: 0.4000\n",
      "Epoch 45/100\n",
      "3/3 [==============================] - 0s 117ms/step - loss: 0.6917 - accuracy: 0.5250 - val_loss: 0.6981 - val_accuracy: 0.4000\n",
      "Epoch 46/100\n",
      "3/3 [==============================] - 0s 85ms/step - loss: 0.6916 - accuracy: 0.5250 - val_loss: 0.6980 - val_accuracy: 0.4000\n",
      "Epoch 47/100\n",
      "3/3 [==============================] - 0s 85ms/step - loss: 0.6917 - accuracy: 0.5250 - val_loss: 0.6981 - val_accuracy: 0.4000\n",
      "Epoch 48/100\n",
      "3/3 [==============================] - 0s 82ms/step - loss: 0.6916 - accuracy: 0.5250 - val_loss: 0.6980 - val_accuracy: 0.4000\n",
      "Epoch 49/100\n",
      "3/3 [==============================] - 0s 81ms/step - loss: 0.6916 - accuracy: 0.5250 - val_loss: 0.6980 - val_accuracy: 0.4000\n",
      "Epoch 50/100\n",
      "3/3 [==============================] - 0s 78ms/step - loss: 0.6916 - accuracy: 0.5250 - val_loss: 0.6982 - val_accuracy: 0.4000\n",
      "Epoch 51/100\n",
      "3/3 [==============================] - 0s 78ms/step - loss: 0.6916 - accuracy: 0.5250 - val_loss: 0.6982 - val_accuracy: 0.4000\n",
      "Epoch 52/100\n",
      "3/3 [==============================] - 0s 82ms/step - loss: 0.6916 - accuracy: 0.5250 - val_loss: 0.6985 - val_accuracy: 0.4000\n",
      "Epoch 53/100\n",
      "3/3 [==============================] - 0s 75ms/step - loss: 0.6915 - accuracy: 0.5250 - val_loss: 0.6987 - val_accuracy: 0.4000\n",
      "Epoch 54/100\n",
      "3/3 [==============================] - 0s 75ms/step - loss: 0.6915 - accuracy: 0.5250 - val_loss: 0.6987 - val_accuracy: 0.4000\n",
      "Epoch 55/100\n",
      "3/3 [==============================] - 0s 78ms/step - loss: 0.6915 - accuracy: 0.5250 - val_loss: 0.6989 - val_accuracy: 0.4000\n",
      "Epoch 56/100\n",
      "3/3 [==============================] - 0s 74ms/step - loss: 0.6915 - accuracy: 0.5250 - val_loss: 0.6989 - val_accuracy: 0.4000\n",
      "Epoch 57/100\n",
      "3/3 [==============================] - 0s 78ms/step - loss: 0.6915 - accuracy: 0.5250 - val_loss: 0.6988 - val_accuracy: 0.4000\n",
      "Epoch 58/100\n",
      "3/3 [==============================] - 0s 69ms/step - loss: 0.6914 - accuracy: 0.5250 - val_loss: 0.6989 - val_accuracy: 0.4000\n",
      "Epoch 59/100\n",
      "3/3 [==============================] - 0s 68ms/step - loss: 0.6915 - accuracy: 0.5250 - val_loss: 0.6989 - val_accuracy: 0.4000\n",
      "Epoch 60/100\n",
      "3/3 [==============================] - 0s 41ms/step - loss: 0.6914 - accuracy: 0.5250 - val_loss: 0.6990 - val_accuracy: 0.4000\n",
      "Epoch 61/100\n",
      "3/3 [==============================] - 0s 44ms/step - loss: 0.6915 - accuracy: 0.5250 - val_loss: 0.6992 - val_accuracy: 0.4000\n",
      "Epoch 62/100\n",
      "3/3 [==============================] - 0s 41ms/step - loss: 0.6914 - accuracy: 0.5250 - val_loss: 0.6993 - val_accuracy: 0.4000\n",
      "Epoch 63/100\n",
      "3/3 [==============================] - 0s 58ms/step - loss: 0.6914 - accuracy: 0.5250 - val_loss: 0.6993 - val_accuracy: 0.4000\n",
      "Epoch 64/100\n",
      "3/3 [==============================] - 0s 80ms/step - loss: 0.6914 - accuracy: 0.5250 - val_loss: 0.6993 - val_accuracy: 0.4000\n",
      "Epoch 65/100\n",
      "3/3 [==============================] - 0s 71ms/step - loss: 0.6914 - accuracy: 0.5250 - val_loss: 0.6995 - val_accuracy: 0.4000\n",
      "Epoch 66/100\n",
      "3/3 [==============================] - 0s 68ms/step - loss: 0.6915 - accuracy: 0.5250 - val_loss: 0.6991 - val_accuracy: 0.4000\n",
      "Epoch 67/100\n",
      "3/3 [==============================] - 0s 73ms/step - loss: 0.6914 - accuracy: 0.5250 - val_loss: 0.6991 - val_accuracy: 0.4000\n",
      "Epoch 68/100\n",
      "3/3 [==============================] - 0s 72ms/step - loss: 0.6915 - accuracy: 0.5250 - val_loss: 0.6992 - val_accuracy: 0.4000\n",
      "Epoch 69/100\n",
      "3/3 [==============================] - 0s 78ms/step - loss: 0.6914 - accuracy: 0.5250 - val_loss: 0.6993 - val_accuracy: 0.4000\n",
      "Epoch 70/100\n",
      "3/3 [==============================] - 0s 71ms/step - loss: 0.6914 - accuracy: 0.5250 - val_loss: 0.6993 - val_accuracy: 0.4000\n",
      "Epoch 71/100\n",
      "3/3 [==============================] - 0s 64ms/step - loss: 0.6916 - accuracy: 0.5250 - val_loss: 0.6996 - val_accuracy: 0.4000\n",
      "Epoch 72/100\n",
      "3/3 [==============================] - 0s 67ms/step - loss: 0.6913 - accuracy: 0.5250 - val_loss: 0.6997 - val_accuracy: 0.4000\n",
      "Epoch 73/100\n",
      "3/3 [==============================] - 0s 72ms/step - loss: 0.6913 - accuracy: 0.5250 - val_loss: 0.6997 - val_accuracy: 0.4000\n",
      "Epoch 74/100\n",
      "3/3 [==============================] - 0s 72ms/step - loss: 0.6914 - accuracy: 0.5250 - val_loss: 0.6995 - val_accuracy: 0.4000\n",
      "Epoch 75/100\n",
      "3/3 [==============================] - 0s 70ms/step - loss: 0.6914 - accuracy: 0.5250 - val_loss: 0.6996 - val_accuracy: 0.4000\n",
      "Epoch 76/100\n",
      "3/3 [==============================] - 0s 74ms/step - loss: 0.6915 - accuracy: 0.5250 - val_loss: 0.6994 - val_accuracy: 0.4000\n",
      "Epoch 77/100\n",
      "3/3 [==============================] - 0s 74ms/step - loss: 0.6914 - accuracy: 0.5250 - val_loss: 0.6993 - val_accuracy: 0.4000\n",
      "Epoch 78/100\n",
      "3/3 [==============================] - 0s 72ms/step - loss: 0.6914 - accuracy: 0.5250 - val_loss: 0.6996 - val_accuracy: 0.4000\n",
      "Epoch 79/100\n",
      "3/3 [==============================] - 0s 78ms/step - loss: 0.6913 - accuracy: 0.5250 - val_loss: 0.6994 - val_accuracy: 0.4000\n",
      "Epoch 80/100\n",
      "3/3 [==============================] - 0s 79ms/step - loss: 0.6914 - accuracy: 0.5250 - val_loss: 0.6995 - val_accuracy: 0.4000\n",
      "Epoch 81/100\n",
      "3/3 [==============================] - 0s 75ms/step - loss: 0.6914 - accuracy: 0.5250 - val_loss: 0.6994 - val_accuracy: 0.4000\n",
      "Epoch 82/100\n",
      "3/3 [==============================] - 0s 70ms/step - loss: 0.6914 - accuracy: 0.5250 - val_loss: 0.6998 - val_accuracy: 0.4000\n",
      "Epoch 83/100\n",
      "3/3 [==============================] - 0s 73ms/step - loss: 0.6913 - accuracy: 0.5250 - val_loss: 0.6998 - val_accuracy: 0.4000\n",
      "Epoch 84/100\n",
      "3/3 [==============================] - 0s 78ms/step - loss: 0.6914 - accuracy: 0.5250 - val_loss: 0.7001 - val_accuracy: 0.4000\n",
      "Epoch 85/100\n",
      "3/3 [==============================] - 0s 80ms/step - loss: 0.6913 - accuracy: 0.5250 - val_loss: 0.7000 - val_accuracy: 0.4000\n",
      "Epoch 86/100\n",
      "3/3 [==============================] - 0s 73ms/step - loss: 0.6913 - accuracy: 0.5250 - val_loss: 0.7001 - val_accuracy: 0.4000\n",
      "Epoch 87/100\n",
      "3/3 [==============================] - 0s 71ms/step - loss: 0.6913 - accuracy: 0.5250 - val_loss: 0.7002 - val_accuracy: 0.4000\n",
      "Epoch 88/100\n",
      "3/3 [==============================] - 0s 80ms/step - loss: 0.6913 - accuracy: 0.5250 - val_loss: 0.7004 - val_accuracy: 0.4000\n",
      "Epoch 89/100\n",
      "3/3 [==============================] - 0s 79ms/step - loss: 0.6916 - accuracy: 0.5250 - val_loss: 0.7006 - val_accuracy: 0.4000\n",
      "Epoch 90/100\n",
      "3/3 [==============================] - 0s 40ms/step - loss: 0.6913 - accuracy: 0.5250 - val_loss: 0.7005 - val_accuracy: 0.4000\n",
      "Epoch 91/100\n",
      "3/3 [==============================] - 0s 41ms/step - loss: 0.6914 - accuracy: 0.5250 - val_loss: 0.7004 - val_accuracy: 0.4000\n",
      "Epoch 92/100\n",
      "3/3 [==============================] - 0s 41ms/step - loss: 0.6914 - accuracy: 0.5250 - val_loss: 0.7008 - val_accuracy: 0.4000\n",
      "Epoch 93/100\n",
      "3/3 [==============================] - 0s 65ms/step - loss: 0.6913 - accuracy: 0.5250 - val_loss: 0.7006 - val_accuracy: 0.4000\n",
      "Epoch 94/100\n",
      "3/3 [==============================] - 0s 76ms/step - loss: 0.6913 - accuracy: 0.5250 - val_loss: 0.7007 - val_accuracy: 0.4000\n",
      "Epoch 95/100\n",
      "3/3 [==============================] - 0s 78ms/step - loss: 0.6912 - accuracy: 0.5250 - val_loss: 0.7006 - val_accuracy: 0.4000\n",
      "Epoch 96/100\n",
      "3/3 [==============================] - 0s 80ms/step - loss: 0.6914 - accuracy: 0.5250 - val_loss: 0.7006 - val_accuracy: 0.4000\n",
      "Epoch 97/100\n",
      "3/3 [==============================] - 0s 65ms/step - loss: 0.6912 - accuracy: 0.5250 - val_loss: 0.7005 - val_accuracy: 0.4000\n",
      "Epoch 98/100\n",
      "3/3 [==============================] - 0s 73ms/step - loss: 0.6912 - accuracy: 0.5250 - val_loss: 0.7006 - val_accuracy: 0.4000\n",
      "Epoch 99/100\n",
      "3/3 [==============================] - 0s 69ms/step - loss: 0.6912 - accuracy: 0.5250 - val_loss: 0.7006 - val_accuracy: 0.4000\n",
      "Epoch 100/100\n",
      "3/3 [==============================] - 0s 103ms/step - loss: 0.6912 - accuracy: 0.5250 - val_loss: 0.7006 - val_accuracy: 0.4000\n"
     ]
    }
   ],
   "source": [
    "H = model.fit(x_train, y_train, validation_data=(x_test, y_test), \n",
    "          epochs=max_epochs, batch_size=32)"
   ]
  },
  {
   "cell_type": "code",
   "execution_count": 16,
   "metadata": {},
   "outputs": [
    {
     "data": {
      "image/png": "[encoded data removed]",
      "text/plain": [
       "<Figure size 432x288 with 1 Axes>"
      ]
     },
     "metadata": {},
     "output_type": "display_data"
    }
   ],
   "source": [
    "N = np.arange(0, max_epochs)\n",
    "plt.style.use(\"ggplot\")\n",
    "plt.figure()\n",
    "plt.plot(N, H.history[\"loss\"], label=\"train_loss\")\n",
    "plt.plot(N, H.history[\"val_loss\"], label=\"val_loss\")\n",
    "#plt.plot(N, H.history[\"accuracy\"], label=\"train_acc\")\n",
    "#plt.plot(N, H.history[\"val_accuracy\"], label=\"val_acc\")\n",
    "plt.xlabel(\"Epoch #\")\n",
    "plt.legend()\n",
    "plt.show()"
   ]
  },
  {
   "cell_type": "markdown",
   "metadata": {},
   "source": [
    "<h3>7. Evaluate the Model</h3>"
   ]
  },
  {
   "cell_type": "code",
   "execution_count": 17,
   "metadata": {},
   "outputs": [
    {
     "name": "stdout",
     "output_type": "stream",
     "text": [
      "              precision    recall  f1-score   support\n",
      "\n",
      "  Jambu Biji       0.00      0.00      0.00        12\n",
      "      Pepaya       0.40      1.00      0.57         8\n",
      "\n",
      "    accuracy                           0.40        20\n",
      "   macro avg       0.20      0.50      0.29        20\n",
      "weighted avg       0.16      0.40      0.23        20\n",
      "\n"
     ]
    },
    {
     "name": "stderr",
     "output_type": "stream",
     "text": [
      "C:\\Users\\WINDOW~1\\AppData\\Local\\Temp/ipykernel_57636/954476436.py:3: DeprecationWarning: `np.int` is a deprecated alias for the builtin `int`. To silence this warning, use `int` by itself. Doing this will not modify any behavior and is safe. When replacing `np.int`, you may wish to use e.g. `np.int64` or `np.int32` to specify the precision. If you wish to review your current use, check the release note link for additional information.\n",
      "Deprecated in NumPy 1.20; for more details and guidance: https://numpy.org/devdocs/release/1.20.0-notes.html#deprecations\n",
      "  target = (predictions > 0.5).astype(np.int)\n",
      "C:\\Users\\WINDOWS 10\\AppData\\Local\\Programs\\Python\\Python38\\lib\\site-packages\\sklearn\\metrics\\_classification.py:1308: UndefinedMetricWarning: Precision and F-score are ill-defined and being set to 0.0 in labels with no predicted samples. Use `zero_division` parameter to control this behavior.\n",
      "  _warn_prf(average, modifier, msg_start, len(result))\n",
      "C:\\Users\\WINDOWS 10\\AppData\\Local\\Programs\\Python\\Python38\\lib\\site-packages\\sklearn\\metrics\\_classification.py:1308: UndefinedMetricWarning: Precision and F-score are ill-defined and being set to 0.0 in labels with no predicted samples. Use `zero_division` parameter to control this behavior.\n",
      "  _warn_prf(average, modifier, msg_start, len(result))\n",
      "C:\\Users\\WINDOWS 10\\AppData\\Local\\Programs\\Python\\Python38\\lib\\site-packages\\sklearn\\metrics\\_classification.py:1308: UndefinedMetricWarning: Precision and F-score are ill-defined and being set to 0.0 in labels with no predicted samples. Use `zero_division` parameter to control this behavior.\n",
      "  _warn_prf(average, modifier, msg_start, len(result))\n"
     ]
    }
   ],
   "source": [
    "# menghitung nilai akurasi model terhadap data test\n",
    "predictions = model.predict(x_test, batch_size=32)\n",
    "target = (predictions > 0.5).astype(np.int)\n",
    "print(classification_report(y_test, target, target_names=label_list))"
   ]
  },
  {
   "cell_type": "code",
   "execution_count": 20,
   "metadata": {},
   "outputs": [
    {
     "name": "stdout",
     "output_type": "stream",
     "text": [
      "[[0.6488121]]\n"
     ]
    }
   ],
   "source": [
    "# uji model menggunakan image lain\n",
    "queryPath = imagePaths+'/Pepaya/036.jpg'\n",
    "query = cv2.imread(queryPath)\n",
    "output = query.copy()\n",
    "query = cv2.resize(query, (32, 32))\n",
    "q = []\n",
    "q.append(query)\n",
    "q = np.array(q, dtype='float') / 255.0\n",
    "\n",
    "q_pred = model.predict(q)\n",
    "print(q_pred)"
   ]
  },
  {
   "cell_type": "code",
   "execution_count": 21,
   "metadata": {},
   "outputs": [
    {
     "ename": "error",
     "evalue": "OpenCV(4.5.4-dev) D:\\a\\opencv-python\\opencv-python\\opencv\\modules\\highgui\\src\\window_w32.cpp:1261: error: (-27:Null pointer) NULL window: 'Output' in function 'cvDestroyWindow'\n",
     "output_type": "error",
     "traceback": [
      "\u001b[1;31m---------------------------------------------------------------------------\u001b[0m",
      "\u001b[1;31merror\u001b[0m                                     Traceback (most recent call last)",
      "\u001b[1;32mC:\\Users\\WINDOW~1\\AppData\\Local\\Temp/ipykernel_57636/3366703347.py\u001b[0m in \u001b[0;36m<module>\u001b[1;34m\u001b[0m\n\u001b[0;32m      9\u001b[0m \u001b[0mcv2\u001b[0m\u001b[1;33m.\u001b[0m\u001b[0mimshow\u001b[0m\u001b[1;33m(\u001b[0m\u001b[1;34m'Output'\u001b[0m\u001b[1;33m,\u001b[0m \u001b[0moutput\u001b[0m\u001b[1;33m)\u001b[0m\u001b[1;33m\u001b[0m\u001b[1;33m\u001b[0m\u001b[0m\n\u001b[0;32m     10\u001b[0m \u001b[0mcv2\u001b[0m\u001b[1;33m.\u001b[0m\u001b[0mwaitKey\u001b[0m\u001b[1;33m(\u001b[0m\u001b[1;33m)\u001b[0m \u001b[1;31m# image tidak akan diclose,sebelum user menekan sembarang tombol\u001b[0m\u001b[1;33m\u001b[0m\u001b[1;33m\u001b[0m\u001b[0m\n\u001b[1;32m---> 11\u001b[1;33m \u001b[0mcv2\u001b[0m\u001b[1;33m.\u001b[0m\u001b[0mdestroyWindow\u001b[0m\u001b[1;33m(\u001b[0m\u001b[1;34m'Output'\u001b[0m\u001b[1;33m)\u001b[0m \u001b[1;31m# image akan diclose\u001b[0m\u001b[1;33m\u001b[0m\u001b[1;33m\u001b[0m\u001b[0m\n\u001b[0m",
      "\u001b[1;31merror\u001b[0m: OpenCV(4.5.4-dev) D:\\a\\opencv-python\\opencv-python\\opencv\\modules\\highgui\\src\\window_w32.cpp:1261: error: (-27:Null pointer) NULL window: 'Output' in function 'cvDestroyWindow'\n"
     ]
    }
   ],
   "source": [
    "if q_pred<=0.5 :\n",
    "    target = \"Jambu Biji\"\n",
    "else :\n",
    "    target = \"Pepaya\"\n",
    "text = \"{}\".format(target)\n",
    "cv2.putText(output, text, (10, 30), cv2.FONT_HERSHEY_SIMPLEX, 0.7, (0, 0, 255), 2)\n",
    " \n",
    "# menampilkan output image\n",
    "cv2.imshow('Output', output)\n",
    "cv2.waitKey() # image tidak akan diclose,sebelum user menekan sembarang tombol\n",
    "cv2.destroyWindow('Output') # image akan diclose"
   ]
  },
  {
   "cell_type": "code",
   "execution_count": null,
   "metadata": {},
   "outputs": [],
   "source": []
  }
 ],
 "metadata": {
  "kernelspec": {
   "display_name": "Python 3",
   "language": "python",
   "name": "python3"
  },
  "language_info": {
   "codemirror_mode": {
    "name": "ipython",
    "version": 3
   },
   "file_extension": ".py",
   "mimetype": "text/x-python",
   "name": "python",
   "nbconvert_exporter": "python",
   "pygments_lexer": "ipython3",
   "version": "3.8.0"
  }
 },
 "nbformat": 4,
 "nbformat_minor": 4
}
