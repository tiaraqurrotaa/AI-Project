{
 "cells": [
  {
   "cell_type": "code",
   "execution_count": 1,
   "id": "df103c19",
   "metadata": {},
   "outputs": [],
   "source": [
    "import cv2"
   ]
  },
  {
   "cell_type": "code",
   "execution_count": 2,
   "id": "6f001995",
   "metadata": {},
   "outputs": [],
   "source": [
    "image = cv2.imread(\"Jambu biji/001.jpg\")"
   ]
  },
  {
   "cell_type": "code",
   "execution_count": 4,
   "id": "287b7566",
   "metadata": {},
   "outputs": [],
   "source": [
    "cv2.imshow('leaf',image)\n",
    "cv2.waitKey(0)\n",
    "cv2.destroyAllWindows()"
   ]
  },
  {
   "cell_type": "code",
   "execution_count": 5,
   "id": "4c686b56",
   "metadata": {},
   "outputs": [
    {
     "name": "stdout",
     "output_type": "stream",
     "text": [
      "(200, 280, 3)\n"
     ]
    }
   ],
   "source": [
    "im_crop = image[100:300,100:380]\n",
    "cv2.imshow('crop',im_crop)\n",
    "cv2.waitKey(0)\n",
    "cv2.destroyAllWindows()\n",
    "print(im_crop.shape)"
   ]
  },
  {
   "cell_type": "code",
   "execution_count": null,
   "id": "74af55a7",
   "metadata": {},
   "outputs": [],
   "source": []
  }
 ],
 "metadata": {
  "kernelspec": {
   "display_name": "Python 3",
   "language": "python",
   "name": "python3"
  },
  "language_info": {
   "codemirror_mode": {
    "name": "ipython",
    "version": 3
   },
   "file_extension": ".py",
   "mimetype": "text/x-python",
   "name": "python",
   "nbconvert_exporter": "python",
   "pygments_lexer": "ipython3",
   "version": "3.8.8"
  }
 },
 "nbformat": 4,
 "nbformat_minor": 5
}
